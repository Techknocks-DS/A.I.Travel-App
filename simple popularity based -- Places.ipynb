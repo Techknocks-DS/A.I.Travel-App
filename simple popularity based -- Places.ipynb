{
 "cells": [
  {
   "cell_type": "code",
   "execution_count": 1,
   "metadata": {},
   "outputs": [],
   "source": [
    "import pandas as pd\n",
    "import numpy as np\n",
    "import matplotlib as plt\n",
    "import seaborn as sns"
   ]
  },
  {
   "cell_type": "code",
   "execution_count": 2,
   "metadata": {},
   "outputs": [],
   "source": [
    "places=pd.read_csv('f2.csv',error_bad_lines=False)"
   ]
  },
  {
   "cell_type": "code",
   "execution_count": 3,
   "metadata": {},
   "outputs": [
    {
     "data": {
      "text/html": [
       "<div>\n",
       "<style scoped>\n",
       "    .dataframe tbody tr th:only-of-type {\n",
       "        vertical-align: middle;\n",
       "    }\n",
       "\n",
       "    .dataframe tbody tr th {\n",
       "        vertical-align: top;\n",
       "    }\n",
       "\n",
       "    .dataframe thead th {\n",
       "        text-align: right;\n",
       "    }\n",
       "</style>\n",
       "<table border=\"1\" class=\"dataframe\">\n",
       "  <thead>\n",
       "    <tr style=\"text-align: right;\">\n",
       "      <th></th>\n",
       "      <th>id</th>\n",
       "      <th>main_places</th>\n",
       "      <th>sub_places</th>\n",
       "      <th>sub2_places</th>\n",
       "      <th>rating</th>\n",
       "      <th>time</th>\n",
       "    </tr>\n",
       "  </thead>\n",
       "  <tbody>\n",
       "    <tr>\n",
       "      <th>0</th>\n",
       "      <td>Sportsathlete</td>\n",
       "      <td>Munnar, India</td>\n",
       "      <td>Chithirapuram, India</td>\n",
       "      <td>Chandy's Windy Woods Spa</td>\n",
       "      <td>5</td>\n",
       "      <td>January 2020</td>\n",
       "    </tr>\n",
       "    <tr>\n",
       "      <th>1</th>\n",
       "      <td>Travellinguli</td>\n",
       "      <td>Munnar, India</td>\n",
       "      <td>Chithirapuram, India</td>\n",
       "      <td>Chandy's Windy Woods Spa</td>\n",
       "      <td>5</td>\n",
       "      <td>December 2019</td>\n",
       "    </tr>\n",
       "    <tr>\n",
       "      <th>2</th>\n",
       "      <td>123Margaret4711</td>\n",
       "      <td>Munnar, India</td>\n",
       "      <td>Chithirapuram, India</td>\n",
       "      <td>Chandy's Windy Woods Spa</td>\n",
       "      <td>5</td>\n",
       "      <td>November 2019</td>\n",
       "    </tr>\n",
       "    <tr>\n",
       "      <th>3</th>\n",
       "      <td>SKG109</td>\n",
       "      <td>Munnar, India</td>\n",
       "      <td>Pothamedu, India</td>\n",
       "      <td>Photo Point</td>\n",
       "      <td>3</td>\n",
       "      <td>February 2020</td>\n",
       "    </tr>\n",
       "    <tr>\n",
       "      <th>4</th>\n",
       "      <td>eric</td>\n",
       "      <td>Munnar, India</td>\n",
       "      <td>Pothamedu, India</td>\n",
       "      <td>Photo Point</td>\n",
       "      <td>3</td>\n",
       "      <td>January 2020</td>\n",
       "    </tr>\n",
       "  </tbody>\n",
       "</table>\n",
       "</div>"
      ],
      "text/plain": [
       "                id    main_places            sub_places  \\\n",
       "0    Sportsathlete  Munnar, India  Chithirapuram, India   \n",
       "1    Travellinguli  Munnar, India  Chithirapuram, India   \n",
       "2  123Margaret4711  Munnar, India  Chithirapuram, India   \n",
       "3           SKG109  Munnar, India      Pothamedu, India   \n",
       "4             eric  Munnar, India      Pothamedu, India   \n",
       "\n",
       "                sub2_places  rating            time  \n",
       "0  Chandy's Windy Woods Spa       5    January 2020  \n",
       "1  Chandy's Windy Woods Spa       5   December 2019  \n",
       "2  Chandy's Windy Woods Spa       5   November 2019  \n",
       "3               Photo Point       3   February 2020  \n",
       "4               Photo Point       3    January 2020  "
      ]
     },
     "execution_count": 3,
     "metadata": {},
     "output_type": "execute_result"
    }
   ],
   "source": [
    "places.head()"
   ]
  },
  {
   "cell_type": "code",
   "execution_count": 4,
   "metadata": {},
   "outputs": [
    {
     "data": {
      "text/plain": [
       "(480, 6)"
      ]
     },
     "execution_count": 4,
     "metadata": {},
     "output_type": "execute_result"
    }
   ],
   "source": [
    "places.shape"
   ]
  },
  {
   "cell_type": "code",
   "execution_count": 5,
   "metadata": {},
   "outputs": [
    {
     "data": {
      "text/plain": [
       "array([5, 3, 4, 2, 1])"
      ]
     },
     "execution_count": 5,
     "metadata": {},
     "output_type": "execute_result"
    }
   ],
   "source": [
    "places.rating.unique()"
   ]
  },
  {
   "cell_type": "code",
   "execution_count": 6,
   "metadata": {},
   "outputs": [
    {
     "data": {
      "text/plain": [
       "array([\"Chandy's Windy Woods Spa\", 'Photo Point', 'Lock Heart Gap',\n",
       "       'Kolukkumalai Tea Estate', 'Anayirankal Dam Reservoir',\n",
       "       'Power House Falls', 'Tea Town Kerala - Munnar', 'Dr.Bala Falls',\n",
       "       'The Grape Adventures & Holidays', 'Periyakanal Waterfalls',\n",
       "       'Lockhart Tea Museum', 'Amazing Munnar Tours',\n",
       "       'D Trek Munnar Adventure', 'Ayur Breath Ayurveda Spa',\n",
       "       'Greenview Pleasure Holidays.', 'Pothamedu Viewpoint',\n",
       "       'Blossom Hydel Park', 'Safari Routes', 'Only Organic',\n",
       "       'Chengulam Dam', 'Dreamland Adventure', 'Angels Ayurspa',\n",
       "       'Fun Forest Adventure Park', 'Natura Ayush Hospital', 'Quan Spa',\n",
       "       'Ayushveda Spa', 'Puthuvype Beach',\n",
       "       'BhoothathanKettu Dam & Reserve Forest',\n",
       "       'Keralayathra Tours and Travels',\n",
       "       'Estire Day Tours - Private Day Tours', 'Chottanikkara Temple',\n",
       "       'Heavenly Holidays', 'Monsoon Taxis', 'Edappally Church Complex',\n",
       "       'Shiva Temple', 'Kerala Routes', 'La Arcadia Iyengar Yoga Center',\n",
       "       'Neptune Water Sports', 'Cherai Beach', 'Cherai Taxi',\n",
       "       'Kuzhupilly Beach', 'Ayurveda Treatment Centre',\n",
       "       'Cherai Ayurvedic Palace', 'Cherai Ayurvedic Bhavan Spa',\n",
       "       'Welgreen Kerala Holidays', 'Flymalabar Holidays',\n",
       "       'Prana The Ayruvedic Centre', 'The Village Nook',\n",
       "       'Aluva Shiva Temple', 'Sri Datta Anjaneya Kshetram',\n",
       "       'Alwaye Palace', 'Make Our Moments', 'Marthanda Varma Bridge',\n",
       "       'Seasonz India', 'Black Pepper Taxis', 'Series Tours',\n",
       "       'Nainikaz tours and travels Kochi munnar',\n",
       "       'Master World Culinary Tours', 'Mahadeva Temple',\n",
       "       'WOW Kerala Trips - Day Tours', 'Sri Ramakrishna Advaita Ashram',\n",
       "       'Sri Adi Sankara Keerthi Sthamba Mandapam', 'Namasthe Ayurveda',\n",
       "       'MAGJ Yoga Naturopathy Wellness Centre', 'Shree Jeevanam',\n",
       "       'Anvin Ayurvedic Panchakarma Clinic',\n",
       "       'Government Ayurveda College', 'JT Performing Arts Center',\n",
       "       'Poornathrayesa Temple', 'The Traveling Gecko',\n",
       "       'Hill Palace Museum', 'Thanneerchal Park', 'Abad Nucleus Mall',\n",
       "       'Kochi Holidays ( Kochi Tours and Travels )',\n",
       "       'meetmytour holidays', \"Queen's Walkway\", 'Kerala Taxis',\n",
       "       'Travelmaster Day Tours', 'Alova Hospitality',\n",
       "       'Pack Your Passport', 'Paavakkulam Mahadeva Temple',\n",
       "       'Rena Event Hub', \"St. Antony's Shrine\",\n",
       "       'Experience Kerala Holiday Planners', 'Shri Krishna Temple',\n",
       "       'Adi Shancharachaya Temple', 'Kochi Taxi',\n",
       "       'Birthplace of Sri Adi Shankara', 'Nagarjuna Ayurvedic Centre',\n",
       "       'Nagancheri Mana Park', 'Kallil Devi Temple', 'My Kerala Taxi Cab',\n",
       "       'Iringole Forest Temple'], dtype=object)"
      ]
     },
     "execution_count": 6,
     "metadata": {},
     "output_type": "execute_result"
    }
   ],
   "source": [
    "places.sub2_places.unique()"
   ]
  },
  {
   "cell_type": "code",
   "execution_count": 7,
   "metadata": {},
   "outputs": [
    {
     "data": {
      "text/plain": [
       "array([' January 2020', ' December 2019', ' November 2019',\n",
       "       ' February 2020', ' March 2019', ' September 2019', ' August 2019',\n",
       "       ' May 2019', ' January 2019', ' December 2018', ' November 2018',\n",
       "       ' January 2018', ' December 2017', ' May 2018', ' April 2019',\n",
       "       ' July 2019', ' July 2018', ' June 2018', ' March 2018',\n",
       "       ' March 2017', ' November 2017', ' August 2018', ' February 2018',\n",
       "       ' October 2019', nan, ' January 2017', ' July 2017', ' April 2017',\n",
       "       ' June 2019', ' February 2019', ' September 2018', ' March 2020',\n",
       "       ' October 2018', ' May 2017', ' October 2017', ' February 2017',\n",
       "       ' March 2016', ' April 2018', ' June 2020', ' August 2017',\n",
       "       ' September 2017', ' December 2016', ' October 2016',\n",
       "       ' November 2016', ' July 2016', ' May 2016', ' May 2020',\n",
       "       ' August 2011', ' September 2016', ' August 2016', ' April 2020',\n",
       "       ' November 2015', ' April 2016', ' December 2015', ' January 2015'],\n",
       "      dtype=object)"
      ]
     },
     "execution_count": 7,
     "metadata": {},
     "output_type": "execute_result"
    }
   ],
   "source": [
    "places.time.unique()"
   ]
  },
  {
   "cell_type": "code",
   "execution_count": 8,
   "metadata": {},
   "outputs": [],
   "source": [
    "ratings_new=places\n",
    "ratings_new.drop(['main_places','sub_places','time'],axis=1,inplace=True)"
   ]
  },
  {
   "cell_type": "code",
   "execution_count": 9,
   "metadata": {},
   "outputs": [
    {
     "name": "stderr",
     "output_type": "stream",
     "text": [
      "/home/amalshaji/anaconda3/lib/python3.7/site-packages/pandas/core/ops/array_ops.py:253: FutureWarning: elementwise comparison failed; returning scalar instead, but in the future will perform elementwise comparison\n",
      "  res_values = method(rvalues)\n"
     ]
    }
   ],
   "source": [
    "ratings_explicit=ratings_new[ratings_new.rating!='']"
   ]
  },
  {
   "cell_type": "code",
   "execution_count": 10,
   "metadata": {},
   "outputs": [
    {
     "data": {
      "text/plain": [
       "(480, 3)"
      ]
     },
     "execution_count": 10,
     "metadata": {},
     "output_type": "execute_result"
    }
   ],
   "source": [
    "ratings_explicit.shape"
   ]
  },
  {
   "cell_type": "code",
   "execution_count": 11,
   "metadata": {},
   "outputs": [
    {
     "data": {
      "text/plain": [
       "<matplotlib.axes._subplots.AxesSubplot at 0x7f0fe35b3e90>"
      ]
     },
     "execution_count": 11,
     "metadata": {},
     "output_type": "execute_result"
    },
    {
     "data": {
      "image/png": "[encoded data removed]",
      "text/plain": [
       "<Figure size 432x288 with 1 Axes>"
      ]
     },
     "metadata": {
      "needs_background": "light"
     },
     "output_type": "display_data"
    }
   ],
   "source": [
    "sns.countplot(data=ratings_explicit,x='rating')\n"
   ]
  },
  {
   "cell_type": "code",
   "execution_count": 12,
   "metadata": {},
   "outputs": [
    {
     "name": "stdout",
     "output_type": "stream",
     "text": [
      "                             rating\n",
      "sub2_places                        \n",
      "The Traveling Gecko              49\n",
      "Lock Heart Gap                   47\n",
      "Cherai Taxi                      44\n",
      "Cherai Ayurvedic Palace          44\n",
      "St. Antony's Shrine              43\n",
      "Paavakkulam Mahadeva Temple      42\n",
      "Fun Forest Adventure Park        41\n",
      "Thanneerchal Park                40\n",
      "Cherai Ayurvedic Bhavan Spa      39\n",
      "Chottanikkara Temple             38\n"
     ]
    }
   ],
   "source": [
    "ratings_count = pd.DataFrame(ratings_explicit.groupby(['sub2_places'])['rating'].sum())\n",
    "m=ratings_count.sort_values('rating',ascending = False)\n",
    "print(m.head(10))"
   ]
  },
  {
   "cell_type": "code",
   "execution_count": null,
   "metadata": {},
   "outputs": [],
   "source": []
  },
  {
   "cell_type": "code",
   "execution_count": null,
   "metadata": {},
   "outputs": [],
   "source": [
    "top10.head()"
   ]
  },
  {
   "cell_type": "code",
   "execution_count": null,
   "metadata": {},
   "outputs": [],
   "source": []
  }
 ],
 "metadata": {
  "kernelspec": {
   "display_name": "Python 3",
   "language": "python",
   "name": "python3"
  },
  "language_info": {
   "codemirror_mode": {
    "name": "ipython",
    "version": 3
   },
   "file_extension": ".py",
   "mimetype": "text/x-python",
   "name": "python",
   "nbconvert_exporter": "python",
   "pygments_lexer": "ipython3",
   "version": "3.7.7"
  }
 },
 "nbformat": 4,
 "nbformat_minor": 4
}
