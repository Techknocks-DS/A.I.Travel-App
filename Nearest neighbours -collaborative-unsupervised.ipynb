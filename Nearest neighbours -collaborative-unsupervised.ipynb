{
 "cells": [
  {
   "cell_type": "code",
   "execution_count": 1,
   "metadata": {},
   "outputs": [],
   "source": [
    "import pandas as pd\n",
    "import numpy as np\n"
   ]
  },
  {
   "cell_type": "code",
   "execution_count": 2,
   "metadata": {},
   "outputs": [],
   "source": [
    "places_df = pd.read_csv('f2.csv')"
   ]
  },
  {
   "cell_type": "code",
   "execution_count": 3,
   "metadata": {},
   "outputs": [
    {
     "data": {
      "text/html": [
       "<div>\n",
       "<style scoped>\n",
       "    .dataframe tbody tr th:only-of-type {\n",
       "        vertical-align: middle;\n",
       "    }\n",
       "\n",
       "    .dataframe tbody tr th {\n",
       "        vertical-align: top;\n",
       "    }\n",
       "\n",
       "    .dataframe thead th {\n",
       "        text-align: right;\n",
       "    }\n",
       "</style>\n",
       "<table border=\"1\" class=\"dataframe\">\n",
       "  <thead>\n",
       "    <tr style=\"text-align: right;\">\n",
       "      <th></th>\n",
       "      <th>id</th>\n",
       "      <th>main_places</th>\n",
       "      <th>sub_places</th>\n",
       "      <th>sub2_places</th>\n",
       "      <th>rating</th>\n",
       "      <th>time</th>\n",
       "    </tr>\n",
       "  </thead>\n",
       "  <tbody>\n",
       "    <tr>\n",
       "      <th>0</th>\n",
       "      <td>Sportsathlete</td>\n",
       "      <td>Munnar, India</td>\n",
       "      <td>Chithirapuram, India</td>\n",
       "      <td>Chandy's Windy Woods Spa</td>\n",
       "      <td>5</td>\n",
       "      <td>January 2020</td>\n",
       "    </tr>\n",
       "    <tr>\n",
       "      <th>1</th>\n",
       "      <td>Travellinguli</td>\n",
       "      <td>Munnar, India</td>\n",
       "      <td>Chithirapuram, India</td>\n",
       "      <td>Chandy's Windy Woods Spa</td>\n",
       "      <td>5</td>\n",
       "      <td>December 2019</td>\n",
       "    </tr>\n",
       "    <tr>\n",
       "      <th>2</th>\n",
       "      <td>123Margaret4711</td>\n",
       "      <td>Munnar, India</td>\n",
       "      <td>Chithirapuram, India</td>\n",
       "      <td>Chandy's Windy Woods Spa</td>\n",
       "      <td>5</td>\n",
       "      <td>November 2019</td>\n",
       "    </tr>\n",
       "    <tr>\n",
       "      <th>3</th>\n",
       "      <td>SKG109</td>\n",
       "      <td>Munnar, India</td>\n",
       "      <td>Pothamedu, India</td>\n",
       "      <td>Photo Point</td>\n",
       "      <td>3</td>\n",
       "      <td>February 2020</td>\n",
       "    </tr>\n",
       "    <tr>\n",
       "      <th>4</th>\n",
       "      <td>eric</td>\n",
       "      <td>Munnar, India</td>\n",
       "      <td>Pothamedu, India</td>\n",
       "      <td>Photo Point</td>\n",
       "      <td>3</td>\n",
       "      <td>January 2020</td>\n",
       "    </tr>\n",
       "  </tbody>\n",
       "</table>\n",
       "</div>"
      ],
      "text/plain": [
       "                id    main_places            sub_places  \\\n",
       "0    Sportsathlete  Munnar, India  Chithirapuram, India   \n",
       "1    Travellinguli  Munnar, India  Chithirapuram, India   \n",
       "2  123Margaret4711  Munnar, India  Chithirapuram, India   \n",
       "3           SKG109  Munnar, India      Pothamedu, India   \n",
       "4             eric  Munnar, India      Pothamedu, India   \n",
       "\n",
       "                sub2_places  rating            time  \n",
       "0  Chandy's Windy Woods Spa       5    January 2020  \n",
       "1  Chandy's Windy Woods Spa       5   December 2019  \n",
       "2  Chandy's Windy Woods Spa       5   November 2019  \n",
       "3               Photo Point       3   February 2020  \n",
       "4               Photo Point       3    January 2020  "
      ]
     },
     "execution_count": 3,
     "metadata": {},
     "output_type": "execute_result"
    }
   ],
   "source": [
    "places_df.head()"
   ]
  },
  {
   "cell_type": "code",
   "execution_count": 4,
   "metadata": {},
   "outputs": [],
   "source": [
    "combine_rating=places_df.dropna(axis=0,subset=['sub2_places'])\n",
    "places_ratingcount =(combine_rating.\n",
    "                    groupby(by=['sub2_places'])['rating'].\n",
    "                    count().\n",
    "                    reset_index().\n",
    "                    rename(columns={'rating':'totalratingcount'})\n",
    "                    [['sub2_places','totalratingcount']]\n",
    "                    )"
   ]
  },
  {
   "cell_type": "code",
   "execution_count": 5,
   "metadata": {},
   "outputs": [
    {
     "data": {
      "text/html": [
       "<div>\n",
       "<style scoped>\n",
       "    .dataframe tbody tr th:only-of-type {\n",
       "        vertical-align: middle;\n",
       "    }\n",
       "\n",
       "    .dataframe tbody tr th {\n",
       "        vertical-align: top;\n",
       "    }\n",
       "\n",
       "    .dataframe thead th {\n",
       "        text-align: right;\n",
       "    }\n",
       "</style>\n",
       "<table border=\"1\" class=\"dataframe\">\n",
       "  <thead>\n",
       "    <tr style=\"text-align: right;\">\n",
       "      <th></th>\n",
       "      <th>sub2_places</th>\n",
       "      <th>totalratingcount</th>\n",
       "    </tr>\n",
       "  </thead>\n",
       "  <tbody>\n",
       "    <tr>\n",
       "      <th>0</th>\n",
       "      <td>Abad Nucleus Mall</td>\n",
       "      <td>5</td>\n",
       "    </tr>\n",
       "    <tr>\n",
       "      <th>1</th>\n",
       "      <td>Adi Shancharachaya Temple</td>\n",
       "      <td>4</td>\n",
       "    </tr>\n",
       "    <tr>\n",
       "      <th>2</th>\n",
       "      <td>Alova Hospitality</td>\n",
       "      <td>4</td>\n",
       "    </tr>\n",
       "    <tr>\n",
       "      <th>3</th>\n",
       "      <td>Aluva Shiva Temple</td>\n",
       "      <td>8</td>\n",
       "    </tr>\n",
       "    <tr>\n",
       "      <th>4</th>\n",
       "      <td>Alwaye Palace</td>\n",
       "      <td>8</td>\n",
       "    </tr>\n",
       "  </tbody>\n",
       "</table>\n",
       "</div>"
      ],
      "text/plain": [
       "                 sub2_places  totalratingcount\n",
       "0          Abad Nucleus Mall                 5\n",
       "1  Adi Shancharachaya Temple                 4\n",
       "2          Alova Hospitality                 4\n",
       "3         Aluva Shiva Temple                 8\n",
       "4              Alwaye Palace                 8"
      ]
     },
     "execution_count": 5,
     "metadata": {},
     "output_type": "execute_result"
    }
   ],
   "source": [
    "places_ratingcount.head()"
   ]
  },
  {
   "cell_type": "code",
   "execution_count": 6,
   "metadata": {},
   "outputs": [
    {
     "data": {
      "text/html": [
       "<div>\n",
       "<style scoped>\n",
       "    .dataframe tbody tr th:only-of-type {\n",
       "        vertical-align: middle;\n",
       "    }\n",
       "\n",
       "    .dataframe tbody tr th {\n",
       "        vertical-align: top;\n",
       "    }\n",
       "\n",
       "    .dataframe thead th {\n",
       "        text-align: right;\n",
       "    }\n",
       "</style>\n",
       "<table border=\"1\" class=\"dataframe\">\n",
       "  <thead>\n",
       "    <tr style=\"text-align: right;\">\n",
       "      <th></th>\n",
       "      <th>id</th>\n",
       "      <th>main_places</th>\n",
       "      <th>sub_places</th>\n",
       "      <th>sub2_places</th>\n",
       "      <th>rating</th>\n",
       "      <th>time</th>\n",
       "      <th>totalratingcount</th>\n",
       "    </tr>\n",
       "  </thead>\n",
       "  <tbody>\n",
       "    <tr>\n",
       "      <th>0</th>\n",
       "      <td>Sportsathlete</td>\n",
       "      <td>Munnar, India</td>\n",
       "      <td>Chithirapuram, India</td>\n",
       "      <td>Chandy's Windy Woods Spa</td>\n",
       "      <td>5</td>\n",
       "      <td>January 2020</td>\n",
       "      <td>3</td>\n",
       "    </tr>\n",
       "    <tr>\n",
       "      <th>1</th>\n",
       "      <td>Travellinguli</td>\n",
       "      <td>Munnar, India</td>\n",
       "      <td>Chithirapuram, India</td>\n",
       "      <td>Chandy's Windy Woods Spa</td>\n",
       "      <td>5</td>\n",
       "      <td>December 2019</td>\n",
       "      <td>3</td>\n",
       "    </tr>\n",
       "    <tr>\n",
       "      <th>2</th>\n",
       "      <td>123Margaret4711</td>\n",
       "      <td>Munnar, India</td>\n",
       "      <td>Chithirapuram, India</td>\n",
       "      <td>Chandy's Windy Woods Spa</td>\n",
       "      <td>5</td>\n",
       "      <td>November 2019</td>\n",
       "      <td>3</td>\n",
       "    </tr>\n",
       "    <tr>\n",
       "      <th>3</th>\n",
       "      <td>SKG109</td>\n",
       "      <td>Munnar, India</td>\n",
       "      <td>Pothamedu, India</td>\n",
       "      <td>Photo Point</td>\n",
       "      <td>3</td>\n",
       "      <td>February 2020</td>\n",
       "      <td>3</td>\n",
       "    </tr>\n",
       "    <tr>\n",
       "      <th>4</th>\n",
       "      <td>eric</td>\n",
       "      <td>Munnar, India</td>\n",
       "      <td>Pothamedu, India</td>\n",
       "      <td>Photo Point</td>\n",
       "      <td>3</td>\n",
       "      <td>January 2020</td>\n",
       "      <td>3</td>\n",
       "    </tr>\n",
       "  </tbody>\n",
       "</table>\n",
       "</div>"
      ],
      "text/plain": [
       "                id    main_places            sub_places  \\\n",
       "0    Sportsathlete  Munnar, India  Chithirapuram, India   \n",
       "1    Travellinguli  Munnar, India  Chithirapuram, India   \n",
       "2  123Margaret4711  Munnar, India  Chithirapuram, India   \n",
       "3           SKG109  Munnar, India      Pothamedu, India   \n",
       "4             eric  Munnar, India      Pothamedu, India   \n",
       "\n",
       "                sub2_places  rating            time  totalratingcount  \n",
       "0  Chandy's Windy Woods Spa       5    January 2020                 3  \n",
       "1  Chandy's Windy Woods Spa       5   December 2019                 3  \n",
       "2  Chandy's Windy Woods Spa       5   November 2019                 3  \n",
       "3               Photo Point       3   February 2020                 3  \n",
       "4               Photo Point       3    January 2020                 3  "
      ]
     },
     "execution_count": 6,
     "metadata": {},
     "output_type": "execute_result"
    }
   ],
   "source": [
    "df=combine_rating.merge(places_ratingcount,left_on='sub2_places',right_on='sub2_places',how='left')\n",
    "df.head()"
   ]
  },
  {
   "cell_type": "code",
   "execution_count": 7,
   "metadata": {},
   "outputs": [
    {
     "data": {
      "text/plain": [
       "\"\\npopularity_threshold = 5\\ndf=df.query('totalratingcount >= @popularity_threshold')\\ndf.head()\\n\""
      ]
     },
     "execution_count": 7,
     "metadata": {},
     "output_type": "execute_result"
    }
   ],
   "source": [
    "\"\"\"\n",
    "popularity_threshold = 5\n",
    "df=df.query('totalratingcount >= @popularity_threshold')\n",
    "df.head()\n",
    "\"\"\""
   ]
  },
  {
   "cell_type": "code",
   "execution_count": 8,
   "metadata": {},
   "outputs": [
    {
     "data": {
      "text/plain": [
       "(480, 7)"
      ]
     },
     "execution_count": 8,
     "metadata": {},
     "output_type": "execute_result"
    }
   ],
   "source": [
    "df.shape"
   ]
  },
  {
   "cell_type": "code",
   "execution_count": 9,
   "metadata": {},
   "outputs": [
    {
     "data": {
      "text/html": [
       "<div>\n",
       "<style scoped>\n",
       "    .dataframe tbody tr th:only-of-type {\n",
       "        vertical-align: middle;\n",
       "    }\n",
       "\n",
       "    .dataframe tbody tr th {\n",
       "        vertical-align: top;\n",
       "    }\n",
       "\n",
       "    .dataframe thead th {\n",
       "        text-align: right;\n",
       "    }\n",
       "</style>\n",
       "<table border=\"1\" class=\"dataframe\">\n",
       "  <thead>\n",
       "    <tr style=\"text-align: right;\">\n",
       "      <th>id</th>\n",
       "      <th>0703Vas63</th>\n",
       "      <th>123Margaret4711</th>\n",
       "      <th>19PankajS94</th>\n",
       "      <th>23MZ68</th>\n",
       "      <th>34Nina</th>\n",
       "      <th>36 Palms</th>\n",
       "      <th>AJoooooii</th>\n",
       "      <th>Abdur Rahman</th>\n",
       "      <th>Adhik</th>\n",
       "      <th>Aflalrahman</th>\n",
       "      <th>...</th>\n",
       "      <th>tomas s</th>\n",
       "      <th>travel961</th>\n",
       "      <th>travelbugsy7</th>\n",
       "      <th>venguru</th>\n",
       "      <th>vinita s</th>\n",
       "      <th>vinoopm</th>\n",
       "      <th>vmsatheesh22</th>\n",
       "      <th>webbin</th>\n",
       "      <th>yesarar</th>\n",
       "      <th>അനൂപ് V</th>\n",
       "    </tr>\n",
       "    <tr>\n",
       "      <th>sub2_places</th>\n",
       "      <th></th>\n",
       "      <th></th>\n",
       "      <th></th>\n",
       "      <th></th>\n",
       "      <th></th>\n",
       "      <th></th>\n",
       "      <th></th>\n",
       "      <th></th>\n",
       "      <th></th>\n",
       "      <th></th>\n",
       "      <th></th>\n",
       "      <th></th>\n",
       "      <th></th>\n",
       "      <th></th>\n",
       "      <th></th>\n",
       "      <th></th>\n",
       "      <th></th>\n",
       "      <th></th>\n",
       "      <th></th>\n",
       "      <th></th>\n",
       "      <th></th>\n",
       "    </tr>\n",
       "  </thead>\n",
       "  <tbody>\n",
       "    <tr>\n",
       "      <th>Abad Nucleus Mall</th>\n",
       "      <td>0.0</td>\n",
       "      <td>0.0</td>\n",
       "      <td>0.0</td>\n",
       "      <td>0.0</td>\n",
       "      <td>0.0</td>\n",
       "      <td>0.0</td>\n",
       "      <td>0.0</td>\n",
       "      <td>0.0</td>\n",
       "      <td>0.0</td>\n",
       "      <td>0.0</td>\n",
       "      <td>...</td>\n",
       "      <td>0.0</td>\n",
       "      <td>0.0</td>\n",
       "      <td>0.0</td>\n",
       "      <td>0.0</td>\n",
       "      <td>0.0</td>\n",
       "      <td>0.0</td>\n",
       "      <td>0.0</td>\n",
       "      <td>0.0</td>\n",
       "      <td>0.0</td>\n",
       "      <td>0.0</td>\n",
       "    </tr>\n",
       "    <tr>\n",
       "      <th>Adi Shancharachaya Temple</th>\n",
       "      <td>0.0</td>\n",
       "      <td>0.0</td>\n",
       "      <td>0.0</td>\n",
       "      <td>0.0</td>\n",
       "      <td>0.0</td>\n",
       "      <td>0.0</td>\n",
       "      <td>0.0</td>\n",
       "      <td>0.0</td>\n",
       "      <td>0.0</td>\n",
       "      <td>0.0</td>\n",
       "      <td>...</td>\n",
       "      <td>0.0</td>\n",
       "      <td>0.0</td>\n",
       "      <td>0.0</td>\n",
       "      <td>0.0</td>\n",
       "      <td>0.0</td>\n",
       "      <td>0.0</td>\n",
       "      <td>0.0</td>\n",
       "      <td>0.0</td>\n",
       "      <td>0.0</td>\n",
       "      <td>0.0</td>\n",
       "    </tr>\n",
       "    <tr>\n",
       "      <th>Alova Hospitality</th>\n",
       "      <td>0.0</td>\n",
       "      <td>0.0</td>\n",
       "      <td>0.0</td>\n",
       "      <td>0.0</td>\n",
       "      <td>0.0</td>\n",
       "      <td>0.0</td>\n",
       "      <td>0.0</td>\n",
       "      <td>0.0</td>\n",
       "      <td>0.0</td>\n",
       "      <td>0.0</td>\n",
       "      <td>...</td>\n",
       "      <td>0.0</td>\n",
       "      <td>0.0</td>\n",
       "      <td>0.0</td>\n",
       "      <td>0.0</td>\n",
       "      <td>0.0</td>\n",
       "      <td>0.0</td>\n",
       "      <td>0.0</td>\n",
       "      <td>0.0</td>\n",
       "      <td>0.0</td>\n",
       "      <td>0.0</td>\n",
       "    </tr>\n",
       "    <tr>\n",
       "      <th>Aluva Shiva Temple</th>\n",
       "      <td>0.0</td>\n",
       "      <td>0.0</td>\n",
       "      <td>0.0</td>\n",
       "      <td>0.0</td>\n",
       "      <td>0.0</td>\n",
       "      <td>0.0</td>\n",
       "      <td>0.0</td>\n",
       "      <td>0.0</td>\n",
       "      <td>0.0</td>\n",
       "      <td>0.0</td>\n",
       "      <td>...</td>\n",
       "      <td>0.0</td>\n",
       "      <td>0.0</td>\n",
       "      <td>0.0</td>\n",
       "      <td>0.0</td>\n",
       "      <td>0.0</td>\n",
       "      <td>0.0</td>\n",
       "      <td>0.0</td>\n",
       "      <td>0.0</td>\n",
       "      <td>0.0</td>\n",
       "      <td>0.0</td>\n",
       "    </tr>\n",
       "    <tr>\n",
       "      <th>Alwaye Palace</th>\n",
       "      <td>0.0</td>\n",
       "      <td>0.0</td>\n",
       "      <td>0.0</td>\n",
       "      <td>0.0</td>\n",
       "      <td>0.0</td>\n",
       "      <td>0.0</td>\n",
       "      <td>0.0</td>\n",
       "      <td>0.0</td>\n",
       "      <td>0.0</td>\n",
       "      <td>0.0</td>\n",
       "      <td>...</td>\n",
       "      <td>0.0</td>\n",
       "      <td>0.0</td>\n",
       "      <td>4.0</td>\n",
       "      <td>0.0</td>\n",
       "      <td>0.0</td>\n",
       "      <td>0.0</td>\n",
       "      <td>0.0</td>\n",
       "      <td>0.0</td>\n",
       "      <td>0.0</td>\n",
       "      <td>0.0</td>\n",
       "    </tr>\n",
       "  </tbody>\n",
       "</table>\n",
       "<p>5 rows × 418 columns</p>\n",
       "</div>"
      ],
      "text/plain": [
       "id                         0703Vas63  123Margaret4711  19PankajS94  23MZ68  \\\n",
       "sub2_places                                                                  \n",
       "Abad Nucleus Mall                0.0              0.0          0.0     0.0   \n",
       "Adi Shancharachaya Temple        0.0              0.0          0.0     0.0   \n",
       "Alova Hospitality                0.0              0.0          0.0     0.0   \n",
       "Aluva Shiva Temple               0.0              0.0          0.0     0.0   \n",
       "Alwaye Palace                    0.0              0.0          0.0     0.0   \n",
       "\n",
       "id                         34Nina  36 Palms  AJoooooii  Abdur Rahman  Adhik  \\\n",
       "sub2_places                                                                   \n",
       "Abad Nucleus Mall             0.0       0.0        0.0           0.0    0.0   \n",
       "Adi Shancharachaya Temple     0.0       0.0        0.0           0.0    0.0   \n",
       "Alova Hospitality             0.0       0.0        0.0           0.0    0.0   \n",
       "Aluva Shiva Temple            0.0       0.0        0.0           0.0    0.0   \n",
       "Alwaye Palace                 0.0       0.0        0.0           0.0    0.0   \n",
       "\n",
       "id                         Aflalrahman  ...  tomas s  travel961  travelbugsy7  \\\n",
       "sub2_places                             ...                                     \n",
       "Abad Nucleus Mall                  0.0  ...      0.0        0.0           0.0   \n",
       "Adi Shancharachaya Temple          0.0  ...      0.0        0.0           0.0   \n",
       "Alova Hospitality                  0.0  ...      0.0        0.0           0.0   \n",
       "Aluva Shiva Temple                 0.0  ...      0.0        0.0           0.0   \n",
       "Alwaye Palace                      0.0  ...      0.0        0.0           4.0   \n",
       "\n",
       "id                         venguru  vinita s  vinoopm  vmsatheesh22  webbin  \\\n",
       "sub2_places                                                                   \n",
       "Abad Nucleus Mall              0.0       0.0      0.0           0.0     0.0   \n",
       "Adi Shancharachaya Temple      0.0       0.0      0.0           0.0     0.0   \n",
       "Alova Hospitality              0.0       0.0      0.0           0.0     0.0   \n",
       "Aluva Shiva Temple             0.0       0.0      0.0           0.0     0.0   \n",
       "Alwaye Palace                  0.0       0.0      0.0           0.0     0.0   \n",
       "\n",
       "id                         yesarar  അനൂപ് V  \n",
       "sub2_places                                  \n",
       "Abad Nucleus Mall              0.0      0.0  \n",
       "Adi Shancharachaya Temple      0.0      0.0  \n",
       "Alova Hospitality              0.0      0.0  \n",
       "Aluva Shiva Temple             0.0      0.0  \n",
       "Alwaye Palace                  0.0      0.0  \n",
       "\n",
       "[5 rows x 418 columns]"
      ]
     },
     "execution_count": 9,
     "metadata": {},
     "output_type": "execute_result"
    }
   ],
   "source": [
    "#Creationg of Pivot table\n",
    "features_df=df.pivot_table(index='sub2_places',columns='id',values='rating').fillna(0)\n",
    "features_df.head()"
   ]
  },
  {
   "cell_type": "code",
   "execution_count": 10,
   "metadata": {},
   "outputs": [],
   "source": [
    "#converting the table to array matrix\n",
    "from scipy.sparse import csr_matrix\n",
    "features_df_matrix=csr_matrix(features_df.values)\n",
    "\n"
   ]
  },
  {
   "cell_type": "code",
   "execution_count": 11,
   "metadata": {},
   "outputs": [
    {
     "data": {
      "text/plain": [
       "NearestNeighbors(algorithm='brute', leaf_size=30, metric='cosine',\n",
       "                 metric_params=None, n_jobs=None, n_neighbors=5, p=2,\n",
       "                 radius=1.0)"
      ]
     },
     "execution_count": 11,
     "metadata": {},
     "output_type": "execute_result"
    }
   ],
   "source": [
    "from sklearn.neighbors import NearestNeighbors\n",
    "\n",
    "model_knn=NearestNeighbors(metric='cosine',algorithm='brute')\n",
    "model_knn.fit(features_df_matrix)"
   ]
  },
  {
   "cell_type": "code",
   "execution_count": 12,
   "metadata": {},
   "outputs": [
    {
     "name": "stdout",
     "output_type": "stream",
     "text": [
      "15\n"
     ]
    }
   ],
   "source": [
    "query_index=np.random.choice(features_df.shape[0])\n",
    "print(query_index)"
   ]
  },
  {
   "cell_type": "code",
   "execution_count": 13,
   "metadata": {},
   "outputs": [],
   "source": [
    "distances,indices=model_knn.kneighbors(features_df.iloc[query_index,:].values.reshape(1,-1),n_neighbors=6)"
   ]
  },
  {
   "cell_type": "code",
   "execution_count": 17,
   "metadata": {},
   "outputs": [
    {
     "name": "stdout",
     "output_type": "stream",
     "text": [
      "[[15 64 65 62 63 60]]  :  [[0. 1. 1. 1. 1. 1.]]\n"
     ]
    }
   ],
   "source": [
    "print(indices,' : ',distances)"
   ]
  },
  {
   "cell_type": "code",
   "execution_count": 18,
   "metadata": {},
   "outputs": [
    {
     "name": "stdout",
     "output_type": "stream",
     "text": [
      "Places which are similar to Blossom Hydel Park:\n",
      "\n",
      "1:Periyakanal Waterfalls, with distance of 1.0.\n",
      "2:Photo Point, with distance of 1.0.\n",
      "3:Paavakkulam Mahadeva Temple, with distance of 1.0.\n",
      "4:Pack Your Passport, with distance of 1.0.\n",
      "5:Neptune Water Sports, with distance of 1.0.\n"
     ]
    }
   ],
   "source": [
    "for i in range(0,len(distances.flatten())):\n",
    "    \n",
    "    if i==0:\n",
    "        print('Places which are similar to {}:\\n'.format(features_df.index[query_index]))    \n",
    "    else:\n",
    "        print('{0}:{1}, with distance of {2}.'.format(i,features_df.index[indices.flatten()[i]],distances.flatten()[i]))"
   ]
  },
  {
   "cell_type": "code",
   "execution_count": null,
   "metadata": {},
   "outputs": [],
   "source": []
  }
 ],
 "metadata": {
  "kernelspec": {
   "display_name": "Python 3",
   "language": "python",
   "name": "python3"
  },
  "language_info": {
   "codemirror_mode": {
    "name": "ipython",
    "version": 3
   },
   "file_extension": ".py",
   "mimetype": "text/x-python",
   "name": "python",
   "nbconvert_exporter": "python",
   "pygments_lexer": "ipython3",
   "version": "3.7.7"
  }
 },
 "nbformat": 4,
 "nbformat_minor": 4
}
